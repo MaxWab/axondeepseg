{
 "cells": [
  {
   "cell_type": "markdown",
   "metadata": {},
   "source": [
    "# IMPORTS"
   ]
  },
  {
   "cell_type": "code",
   "execution_count": 1,
   "metadata": {},
   "outputs": [],
   "source": [
    "import numpy as np\n",
    "import pydensecrf.densecrf as dcrf\n",
    "from PIL import Image\n",
    "import tensorflow as tf\n",
    "import skimage.io as io\n",
    "import pickle\n",
    "import os\n",
    "from matplotlib import pyplot as plt\n",
    "from pydensecrf.utils import compute_unary, create_pairwise_bilateral, \\\n",
    "    create_pairwise_gaussian, unary_from_softmax"
   ]
  },
  {
   "cell_type": "code",
   "execution_count": 2,
   "metadata": {},
   "outputs": [],
   "source": [
    "img_name = 'SEM_data15'\n",
    "path_testing = '../data/baseline_testing/' + img_name\n",
    "model_name='baseline_classic'\n",
    "path_saving='../../../axondeepseg-atrous/axondeepseg/models/'+model_name"
   ]
  },
  {
   "cell_type": "code",
   "execution_count": 3,
   "metadata": {},
   "outputs": [],
   "source": [
    "final_probabilities=pickle.load( open( os.path.join(path_saving,img_name + '_pred_proba.pkl'), \"rb\" ) )"
   ]
  },
  {
   "cell_type": "code",
   "execution_count": 4,
   "metadata": {},
   "outputs": [
    {
     "data": {
      "text/plain": [
       "array([[[0.43217116, 0.34965854, 0.2181703 ],\n",
       "        [0.35156131, 0.57109173, 0.07734696],\n",
       "        [0.3392314 , 0.60243531, 0.05833328],\n",
       "        ...,\n",
       "        [0.33858356, 0.52417135, 0.13724509],\n",
       "        [0.38941188, 0.39724617, 0.21334195],\n",
       "        [0.41138441, 0.17457373, 0.41404185]],\n",
       "\n",
       "       [[0.32807064, 0.58129257, 0.0906368 ],\n",
       "        [0.29217601, 0.67486447, 0.03295952],\n",
       "        [0.29898217, 0.67888408, 0.02213375],\n",
       "        ...,\n",
       "        [0.33788686, 0.57062891, 0.09148423],\n",
       "        [0.35447566, 0.51388598, 0.13163836],\n",
       "        [0.40555955, 0.30653883, 0.28790162]],\n",
       "\n",
       "       [[0.30511632, 0.62745793, 0.06742574],\n",
       "        [0.28877652, 0.68898176, 0.02224172],\n",
       "        [0.30477609, 0.68046867, 0.01475524],\n",
       "        ...,\n",
       "        [0.36825537, 0.54427493, 0.08746969],\n",
       "        [0.37781563, 0.4890607 , 0.13312367],\n",
       "        [0.43199029, 0.30017603, 0.26783368]],\n",
       "\n",
       "       ...,\n",
       "\n",
       "       [[0.17981613, 0.7687426 , 0.05144127],\n",
       "        [0.09303299, 0.89277248, 0.01419453],\n",
       "        [0.05283075, 0.93753418, 0.00963506],\n",
       "        ...,\n",
       "        [0.31778724, 0.66767023, 0.01454253],\n",
       "        [0.32512402, 0.65085083, 0.02402516],\n",
       "        [0.37441786, 0.56320907, 0.06237306]],\n",
       "\n",
       "       [[0.21416234, 0.71371779, 0.07211987],\n",
       "        [0.12703973, 0.84933126, 0.02362902],\n",
       "        [0.08027854, 0.90369095, 0.01603051],\n",
       "        ...,\n",
       "        [0.32906001, 0.64912733, 0.02181266],\n",
       "        [0.33945265, 0.62729125, 0.0332561 ],\n",
       "        [0.41057749, 0.51261018, 0.07681233]],\n",
       "\n",
       "       [[0.34714624, 0.42758344, 0.22527031],\n",
       "        [0.22129334, 0.70321818, 0.07548848],\n",
       "        [0.15901364, 0.78317376, 0.0578126 ],\n",
       "        ...,\n",
       "        [0.38480599, 0.55519195, 0.06000207],\n",
       "        [0.41576041, 0.50431601, 0.07992358],\n",
       "        [0.52403313, 0.29506944, 0.18089744]]])"
      ]
     },
     "execution_count": 4,
     "metadata": {},
     "output_type": "execute_result"
    }
   ],
   "source": [
    "final_probabilities['proba']"
   ]
  },
  {
   "cell_type": "code",
   "execution_count": 5,
   "metadata": {},
   "outputs": [],
   "source": [
    "softmax = np.ones((1,final_probabilities['proba'].shape[0],final_probabilities['proba'].shape[1],final_probabilities['proba'].shape[2]))\n",
    "softmax[0,:,:,:]=final_probabilities['proba']"
   ]
  },
  {
   "cell_type": "code",
   "execution_count": 6,
   "metadata": {},
   "outputs": [],
   "source": [
    "image = plt.imread(os.path.join(path_testing,'image.png'))\n",
    "\n",
    "final_probabilities=np.expand_dims(final_probabilities['proba'].shape,axis=0)"
   ]
  },
  {
   "cell_type": "markdown",
   "metadata": {},
   "source": [
    "Now we adapt the code from tf deeplab resnet"
   ]
  },
  {
   "cell_type": "code",
   "execution_count": 7,
   "metadata": {},
   "outputs": [],
   "source": [
    "\n",
    "\n",
    "n_classes = 3\n",
    "# colour map\n",
    "label_colours = [0,  # 0= background\n",
    "                128, # 1= myelin\n",
    "                255] # 2= axon\n",
    "                   \n",
    "def decode_labels(mask, num_images=1):\n",
    "    \"\"\"Decode batch of segmentation masks.\n",
    "    \n",
    "    Args:\n",
    "      mask: result of inference after taking argmax.\n",
    "      num_images: number of images to decode from the batch.\n",
    "    \n",
    "    Returns:\n",
    "      A batch with num_images RGB images of the same size as the input. \n",
    "    \"\"\"\n",
    "    n, h, w, c = mask.shape\n",
    "    assert(n >= num_images), 'Batch size %d should be greater or equal than number of images to save %d.' % (n, num_images)\n",
    "    outputs = np.zeros((num_images, h, w, 3), dtype=np.uint8)\n",
    "    for i in range(num_images):\n",
    "        img = Image.new('RGB', (len(mask[i, 0]), len(mask[i])))\n",
    "        pixels = img.load()\n",
    "        for j_, j in enumerate(mask[i, :, :, 0]):\n",
    "            for k_, k in enumerate(j):\n",
    "                if k < n_classes:\n",
    "                    pixels[k_,j_] = label_colours[k]\n",
    "        outputs[i] = np.array(img)\n",
    "    return outputs\n",
    "\n",
    "def prepare_label(input_batch, new_size):\n",
    "    \"\"\"Resize masks and perform one-hot encoding.\n",
    "    Args:\n",
    "      input_batch: input tensor of shape [batch_size H W 1].\n",
    "      new_size: a tensor with new height and width.\n",
    "    Returns:\n",
    "      Outputs a tensor of shape [batch_size h w 21]\n",
    "      with last dimension comprised of 0's and 1's only.\n",
    "    \"\"\"\n",
    "    with tf.name_scope('label_encode'):\n",
    "        input_batch = tf.image.resize_nearest_neighbor(input_batch, new_size) # as labels are integer numbers, need to use NN interp.\n",
    "        input_batch = tf.squeeze(input_batch, squeeze_dims=[3]) # reducing the channel dimension.\n",
    "        input_batch = tf.one_hot(input_batch, depth=n_classes)\n",
    "    return input_batch\n",
    "\n",
    "def inv_preprocess(imgs, num_images=1):\n",
    "    \"\"\"Inverse preprocessing of the batch of images.\n",
    "     Add the mean vector and convert from BGR to RGB.\n",
    "\n",
    "    Args:\n",
    "    imgs: batch of input images.\n",
    "    num_images: number of images to apply the inverse transformations on.\n",
    "\n",
    "    Returns:\n",
    "    The batch of the size num_images with the same spatial dimensions as the input.\n",
    "    \"\"\"\n",
    "    n, h, w, c = imgs.shape\n",
    "    assert(n >= num_images), 'Batch size %d should be greater or equal than number of images to save %d.' % (n, num_images)\n",
    "    outputs = np.zeros((num_images, h, w, c), dtype=np.uint8)\n",
    "    for i in range(num_images):\n",
    "        outputs[i] = (imgs[i] + IMG_MEAN)[:, :, ::-1].astype(np.uint8)\n",
    "    return outputs\n",
    "\n",
    "def dense_crf(probs, img=None, n_iters=10, \n",
    "              sxy_gaussian=(1, 1), compat_gaussian=4,\n",
    "              kernel_gaussian=dcrf.DIAG_KERNEL,\n",
    "              normalisation_gaussian=dcrf.NORMALIZE_SYMMETRIC,\n",
    "              sxy_bilateral=(49, 49),\n",
    "              schan_bilateral=(1,)):\n",
    "    \"\"\"DenseCRF over unnormalised predictions.\n",
    "       More details on the arguments at https://github.com/lucasb-eyer/pydensecrf.\n",
    "    \n",
    "    Args:\n",
    "      probs: class probabilities per pixel.\n",
    "      img: if given, the pairwise bilateral potential on raw RGB values will be computed.\n",
    "      n_iters: number of iterations of MAP inference.\n",
    "      sxy_gaussian: standard deviations for the location component of the colour-independent term.\n",
    "      compat_gaussian: label compatibilities for the colour-independent term (can be a number, a 1D array, or a 2D array).\n",
    "      kernel_gaussian: kernel precision matrix for the colour-independent term (can take values CONST_KERNEL, DIAG_KERNEL, or FULL_KERNEL).\n",
    "      normalisation_gaussian: normalisation for the colour-independent term (possible values are NO_NORMALIZATION, NORMALIZE_BEFORE, NORMALIZE_AFTER, NORMALIZE_SYMMETRIC).\n",
    "      sxy_bilateral: standard deviations for the location component of the colour-dependent term.\n",
    "      compat_bilateral: label compatibilities for the colour-dependent term (can be a number, a 1D array, or a 2D array).\n",
    "      srgb_bilateral: standard deviations for the colour component of the colour-dependent term.\n",
    "      kernel_bilateral: kernel precision matrix for the colour-dependent term (can take values CONST_KERNEL, DIAG_KERNEL, or FULL_KERNEL).\n",
    "      normalisation_bilateral: normalisation for the colour-dependent term (possible values are NO_NORMALIZATION, NORMALIZE_BEFORE, NORMALIZE_AFTER, NORMALIZE_SYMMETRIC).\n",
    "      \n",
    "    Returns:\n",
    "      Refined predictions after MAP inference.\n",
    "    \"\"\"\n",
    "    _, h, w, _ = probs.shape\n",
    "    \n",
    "    probs = probs[0].transpose(2, 0, 1).copy(order='C') # Need a contiguous array.\n",
    "    \n",
    "    d = dcrf.DenseCRF2D(w, h, n_classes) # Define DenseCRF model.\n",
    "    U = -np.log(probs) # Unary potential.\n",
    "    U = U.reshape((n_classes, -1)) # Needs to be flat.\n",
    "    d.setUnaryEnergy(U)\n",
    "    d.addPairwiseGaussian(sxy=sxy_gaussian, compat=compat_gaussian,\n",
    "                          kernel=kernel_gaussian, normalization=normalisation_gaussian)\n",
    "    if img is not None:\n",
    "        assert(img.shape[0:2] == (h, w)), \"The image height and width must coincide with dimensions of the logits.\"\n",
    "        pairwise_energy = create_pairwise_bilateral(sdims=sxy_bilateral, schan=schan_bilateral, img=img, chdim=-1)\n",
    "        d.addPairwiseEnergy(pairwise_energy, compat=10)\n",
    "\n",
    "    Q = d.inference(n_iters)\n",
    "    preds = np.array(Q, dtype=np.float32).reshape((n_classes, h, w)).transpose(1, 2, 0)\n",
    "    return np.expand_dims(preds, 0)\n"
   ]
  },
  {
   "cell_type": "markdown",
   "metadata": {},
   "source": [
    "# INFERENCE"
   ]
  },
  {
   "cell_type": "code",
   "execution_count": 8,
   "metadata": {},
   "outputs": [],
   "source": [
    "#output_crf = tf.py_func(dense_crf, softmax, tf.float32)\n",
    "softmax = softmax.astype(np.float32)\n",
    "output_crf = dense_crf(softmax,img=image,\n",
    "                       sxy_gaussian=(57,57),\n",
    "                       sxy_bilateral=(0.82,0.82),\n",
    "                       schan_bilateral=(17))\n",
    "#output_crf = tf.argmax(output_crf, dimension=3)"
   ]
  },
  {
   "cell_type": "code",
   "execution_count": 9,
   "metadata": {},
   "outputs": [],
   "source": [
    "pred = tf.expand_dims(output_crf, dim=3)\n",
    "sess=tf.Session()\n",
    "with sess :\n",
    "    out_pred = pred.eval()\n",
    "out_pred=np.squeeze(out_pred) "
   ]
  },
  {
   "cell_type": "code",
   "execution_count": 10,
   "metadata": {},
   "outputs": [
    {
     "data": {
      "text/plain": [
       "array([[[3.95250172e-05, 9.99927282e-01, 3.31390693e-05],\n",
       "        [1.37607012e-05, 9.99981284e-01, 5.05532216e-06],\n",
       "        [1.63267596e-05, 9.99978900e-01, 4.71300655e-06],\n",
       "        ...,\n",
       "        [4.30363543e-05, 9.99946117e-01, 1.08375179e-05],\n",
       "        [5.56868217e-05, 9.99925375e-01, 1.89865332e-05],\n",
       "        [1.89599377e-04, 9.99691486e-01, 1.18939985e-04]],\n",
       "\n",
       "       [[1.71657994e-05, 9.99974966e-01, 7.90956528e-06],\n",
       "        [5.04273248e-06, 9.99994040e-01, 9.53850531e-07],\n",
       "        [7.13422969e-06, 9.99992013e-01, 8.90292029e-07],\n",
       "        ...,\n",
       "        [2.22132003e-05, 9.99974132e-01, 3.73520993e-06],\n",
       "        [1.88885897e-05, 9.99976754e-01, 4.36471191e-06],\n",
       "        [1.10233996e-04, 9.99840975e-01, 4.87817779e-05]],\n",
       "\n",
       "       [[1.75096739e-05, 9.99976039e-01, 6.48037212e-06],\n",
       "        [5.15993588e-06, 9.99994159e-01, 6.69148676e-07],\n",
       "        [8.82016775e-06, 9.99990463e-01, 7.22766515e-07],\n",
       "        ...,\n",
       "        [2.35188272e-05, 9.99973059e-01, 3.46813044e-06],\n",
       "        [1.67418002e-05, 9.99979615e-01, 3.66983431e-06],\n",
       "        [1.12308990e-04, 9.99844313e-01, 4.34068388e-05]],\n",
       "\n",
       "       ...,\n",
       "\n",
       "       [[2.05333163e-05, 9.99975204e-01, 4.23529764e-06],\n",
       "        [3.62552737e-06, 9.99996066e-01, 3.96909940e-07],\n",
       "        [2.83460872e-06, 9.99996781e-01, 3.69158499e-07],\n",
       "        ...,\n",
       "        [1.06699899e-05, 9.99988437e-01, 8.05465675e-07],\n",
       "        [7.99967893e-06, 9.99991059e-01, 9.71395366e-07],\n",
       "        [3.00062875e-05, 9.99961734e-01, 8.18212811e-06]],\n",
       "\n",
       "       [[1.90527098e-05, 9.99976277e-01, 4.63160541e-06],\n",
       "        [3.14747558e-06, 9.99996424e-01, 4.20214860e-07],\n",
       "        [2.97410497e-06, 9.99996543e-01, 4.23997278e-07],\n",
       "        ...,\n",
       "        [5.56666555e-06, 9.99993801e-01, 6.07227093e-07],\n",
       "        [3.79042694e-06, 9.99995589e-01, 6.08714799e-07],\n",
       "        [2.15833170e-05, 9.99971867e-01, 6.59300667e-06]],\n",
       "\n",
       "       [[8.95383491e-05, 9.99868512e-01, 4.19936405e-05],\n",
       "        [1.38652349e-05, 9.99982715e-01, 3.39908297e-06],\n",
       "        [1.49011175e-05, 9.99981284e-01, 3.87152113e-06],\n",
       "        ...,\n",
       "        [2.36904052e-05, 9.99970198e-01, 6.06397680e-06],\n",
       "        [1.85199988e-05, 9.99975681e-01, 5.82149414e-06],\n",
       "        [9.22904946e-05, 9.99855876e-01, 5.18888046e-05]]], dtype=float32)"
      ]
     },
     "execution_count": 10,
     "metadata": {},
     "output_type": "execute_result"
    }
   ],
   "source": [
    "out_pred"
   ]
  },
  {
   "cell_type": "code",
   "execution_count": 12,
   "metadata": {},
   "outputs": [],
   "source": [
    "path_saving=os.path.join('../../../axondeepseg-atrous/axondeepseg/models/',model_name)\n",
    "\n",
    "save_dict_proba={'proba':out_pred}\n",
    "with open(os.path.join(path_saving, img_name+'_pred_proba_crf.pkl'), 'w') as handle:\n",
    "    pickle.dump(save_dict_proba, handle, protocol=pickle.HIGHEST_PROTOCOL)"
   ]
  },
  {
   "cell_type": "code",
   "execution_count": 13,
   "metadata": {},
   "outputs": [
    {
     "data": {
      "text/plain": [
       "<matplotlib.image.AxesImage at 0x99e83d0>"
      ]
     },
     "execution_count": 13,
     "metadata": {},
     "output_type": "execute_result"
    },
    {
     "data": {
      "image/png": "[encoded data removed]",
      "text/plain": [
       "<matplotlib.figure.Figure at 0x8efe9d0>"
      ]
     },
     "metadata": {},
     "output_type": "display_data"
    }
   ],
   "source": [
    "plt.figure(figsize=(13,10))\n",
    "#plt.subplot(2,1,1)\n",
    "plt.imshow(out_pred[100:300,700:1000])\n",
    "#plt.subplot(2,1,2)\n",
    "#plt.imshow(out_pred_save[100:300,700:1000])"
   ]
  },
  {
   "cell_type": "code",
   "execution_count": 10,
   "metadata": {},
   "outputs": [],
   "source": [
    "plt.imsave('post_crf.png',out_pred)"
   ]
  },
  {
   "cell_type": "code",
   "execution_count": 11,
   "metadata": {},
   "outputs": [],
   "source": [
    "out_pred_save=out_pred"
   ]
  },
  {
   "cell_type": "code",
   "execution_count": 12,
   "metadata": {},
   "outputs": [],
   "source": [
    "from scipy.misc import imread, imsave\n",
    "from AxonDeepSeg.testing.segmentation_scoring import *\n"
   ]
  },
  {
   "cell_type": "code",
   "execution_count": 13,
   "metadata": {},
   "outputs": [
    {
     "name": "stderr",
     "output_type": "stream",
     "text": [
      "/home/mawab_local/.virtualenvs/aspp/lib/python2.7/site-packages/ipykernel_launcher.py:1: DeprecationWarning: `imread` is deprecated!\n",
      "`imread` is deprecated in SciPy 1.0.0, and will be removed in 1.2.0.\n",
      "Use ``imageio.imread`` instead.\n",
      "  \"\"\"Entry point for launching an IPython kernel.\n"
     ]
    }
   ],
   "source": [
    "mask = imread('../data/baseline_testing/SEM_data15/mask.png', flatten=True)"
   ]
  },
  {
   "cell_type": "code",
   "execution_count": 14,
   "metadata": {},
   "outputs": [
    {
     "name": "stdout",
     "output_type": "stream",
     "text": [
      "Dice for Axon : 0.9039041977753345\n",
      "Dice for myelin : 0.8200798342838528\n",
      "Dice for Background : 0.8061852471790136\n",
      "Total dice : 0.8400004650015951\n"
     ]
    }
   ],
   "source": [
    "gt_axon = 1.0*(mask > 200)\n",
    "gt_myelin = 1.0*np.logical_and(mask >= 50, mask <= 200)\n",
    "gt_bg = 1.0*(mask < 50)\n",
    "\n",
    "per_axon=np.sum(gt_axon)/(np.shape(gt_axon)[0]*np.shape(gt_axon)[1])\n",
    "per_myelin=np.sum(gt_myelin)/(np.shape(gt_axon)[0]*np.shape(gt_axon)[1])\n",
    "per_bg=np.sum(gt_bg)/(np.shape(gt_axon)[0]*np.shape(gt_axon)[1])\n",
    "\n",
    "pred_axon = 1.0*(out_pred == 2)\n",
    "pred_myelin = 1.0*(out_pred == 1)\n",
    "pred_bg = 1.0*(out_pred == 0)\n",
    "\n",
    "dice_axon = pw_dice(pred_axon, gt_axon)\n",
    "dice_myelin = pw_dice(pred_myelin, gt_myelin)\n",
    "dice_bg = pw_dice(pred_bg, gt_bg)\n",
    "total_dice = per_bg*dice_bg + per_myelin*dice_myelin + per_axon*dice_axon\n",
    "\n",
    "print 'Dice for Axon : ' + str(dice_axon)\n",
    "print 'Dice for myelin : ' + str(dice_myelin)\n",
    "print 'Dice for Background : ' + str(dice_bg)\n",
    "print 'Total dice : ' + str(total_dice)"
   ]
  },
  {
   "cell_type": "code",
   "execution_count": 15,
   "metadata": {},
   "outputs": [],
   "source": [
    "from sklearn.metrics import accuracy_score"
   ]
  },
  {
   "cell_type": "code",
   "execution_count": 16,
   "metadata": {},
   "outputs": [],
   "source": [
    "gt_discretized=np.zeros_like(gt_bg)+gt_myelin+2*gt_axon\n"
   ]
  },
  {
   "cell_type": "code",
   "execution_count": 17,
   "metadata": {},
   "outputs": [],
   "source": [
    "total_accuracy=accuracy_score(gt_discretized.ravel(),out_pred.ravel())"
   ]
  },
  {
   "cell_type": "code",
   "execution_count": 18,
   "metadata": {},
   "outputs": [
    {
     "data": {
      "text/plain": [
       "0.8410344570544716"
      ]
     },
     "execution_count": 18,
     "metadata": {},
     "output_type": "execute_result"
    }
   ],
   "source": [
    "total_accuracy"
   ]
  },
  {
   "cell_type": "markdown",
   "metadata": {},
   "source": [
    "# OPTIMISATION DES HP DU CRF"
   ]
  },
  {
   "cell_type": "code",
   "execution_count": 19,
   "metadata": {},
   "outputs": [
    {
     "name": "stdout",
     "output_type": "stream",
     "text": [
      "Iter  0\n",
      "Iter  1\n"
     ]
    },
    {
     "ename": "KeyboardInterrupt",
     "evalue": "",
     "output_type": "error",
     "traceback": [
      "\u001b[0;31m---------------------------------------------------------------------------\u001b[0m",
      "\u001b[0;31mKeyboardInterrupt\u001b[0m                         Traceback (most recent call last)",
      "\u001b[0;32m<ipython-input-19-0c12e904918d>\u001b[0m in \u001b[0;36m<module>\u001b[0;34m()\u001b[0m\n\u001b[1;32m      8\u001b[0m                            \u001b[0msxy_gaussian\u001b[0m\u001b[0;34m=\u001b[0m\u001b[0;34m(\u001b[0m\u001b[0;36m57\u001b[0m\u001b[0;34m,\u001b[0m\u001b[0;36m57\u001b[0m\u001b[0;34m)\u001b[0m\u001b[0;34m,\u001b[0m\u001b[0;34m\u001b[0m\u001b[0m\n\u001b[1;32m      9\u001b[0m                            \u001b[0msxy_bilateral\u001b[0m\u001b[0;34m=\u001b[0m\u001b[0;34m(\u001b[0m\u001b[0;36m0.82\u001b[0m\u001b[0;34m,\u001b[0m\u001b[0;36m0.82\u001b[0m\u001b[0;34m)\u001b[0m\u001b[0;34m,\u001b[0m\u001b[0;34m\u001b[0m\u001b[0m\n\u001b[0;32m---> 10\u001b[0;31m                            schan_bilateral=(sxy))\n\u001b[0m\u001b[1;32m     11\u001b[0m     \u001b[0moutput_crf\u001b[0m \u001b[0;34m=\u001b[0m \u001b[0mtf\u001b[0m\u001b[0;34m.\u001b[0m\u001b[0margmax\u001b[0m\u001b[0;34m(\u001b[0m\u001b[0moutput_crf\u001b[0m\u001b[0;34m,\u001b[0m \u001b[0mdimension\u001b[0m\u001b[0;34m=\u001b[0m\u001b[0;36m3\u001b[0m\u001b[0;34m)\u001b[0m\u001b[0;34m\u001b[0m\u001b[0m\n\u001b[1;32m     12\u001b[0m \u001b[0;34m\u001b[0m\u001b[0m\n",
      "\u001b[0;32m<ipython-input-6-09cac23722c3>\u001b[0m in \u001b[0;36mdense_crf\u001b[0;34m(probs, img, n_iters, sxy_gaussian, compat_gaussian, kernel_gaussian, normalisation_gaussian, sxy_bilateral, schan_bilateral)\u001b[0m\n\u001b[1;32m     98\u001b[0m     \u001b[0md\u001b[0m\u001b[0;34m.\u001b[0m\u001b[0msetUnaryEnergy\u001b[0m\u001b[0;34m(\u001b[0m\u001b[0mU\u001b[0m\u001b[0;34m)\u001b[0m\u001b[0;34m\u001b[0m\u001b[0m\n\u001b[1;32m     99\u001b[0m     d.addPairwiseGaussian(sxy=sxy_gaussian, compat=compat_gaussian,\n\u001b[0;32m--> 100\u001b[0;31m                           kernel=kernel_gaussian, normalization=normalisation_gaussian)\n\u001b[0m\u001b[1;32m    101\u001b[0m     \u001b[0;32mif\u001b[0m \u001b[0mimg\u001b[0m \u001b[0;32mis\u001b[0m \u001b[0;32mnot\u001b[0m \u001b[0mNone\u001b[0m\u001b[0;34m:\u001b[0m\u001b[0;34m\u001b[0m\u001b[0m\n\u001b[1;32m    102\u001b[0m         \u001b[0;32massert\u001b[0m\u001b[0;34m(\u001b[0m\u001b[0mimg\u001b[0m\u001b[0;34m.\u001b[0m\u001b[0mshape\u001b[0m\u001b[0;34m[\u001b[0m\u001b[0;36m0\u001b[0m\u001b[0;34m:\u001b[0m\u001b[0;36m2\u001b[0m\u001b[0;34m]\u001b[0m \u001b[0;34m==\u001b[0m \u001b[0;34m(\u001b[0m\u001b[0mh\u001b[0m\u001b[0;34m,\u001b[0m \u001b[0mw\u001b[0m\u001b[0;34m)\u001b[0m\u001b[0;34m)\u001b[0m\u001b[0;34m,\u001b[0m \u001b[0;34m\"The image height and width must coincide with dimensions of the logits.\"\u001b[0m\u001b[0;34m\u001b[0m\u001b[0m\n",
      "\u001b[0;31mKeyboardInterrupt\u001b[0m: "
     ]
    }
   ],
   "source": [
    "vec_xy=np.linspace(15,40,26)\n",
    "vec_res=[]\n",
    "\n",
    "for i,sxy in enumerate(vec_xy):\n",
    "    print 'Iter ', i\n",
    "    # Prediction\n",
    "    output_crf = dense_crf(softmax,img=image,\n",
    "                           sxy_gaussian=(57,57),\n",
    "                           sxy_bilateral=(0.82,0.82),\n",
    "                           schan_bilateral=(sxy))\n",
    "    output_crf = tf.argmax(output_crf, dimension=3)\n",
    "    \n",
    "    # Evaluation of the results\n",
    "    pred = tf.expand_dims(output_crf, dim=3)\n",
    "    sess=tf.Session()\n",
    "    with sess :\n",
    "        out_pred = pred.eval()\n",
    "    out_pred=np.squeeze(out_pred) \n",
    "    \n",
    "    pred_axon = 1.0*(out_pred == 2)\n",
    "    pred_myelin = 1.0*(out_pred == 1)\n",
    "    pred_bg = 1.0*(out_pred == 0)\n",
    "\n",
    "    dice_axon = pw_dice(pred_axon, gt_axon)\n",
    "    dice_myelin = pw_dice(pred_myelin, gt_myelin)\n",
    "    dice_bg = pw_dice(pred_bg, gt_bg)\n",
    "    total_dice = per_bg*dice_bg + per_myelin*dice_myelin + per_axon*dice_axon\n",
    "    vec_res.append(total_dice)\n",
    "    \n",
    "    "
   ]
  },
  {
   "cell_type": "code",
   "execution_count": null,
   "metadata": {},
   "outputs": [],
   "source": [
    "sess.close()"
   ]
  },
  {
   "cell_type": "code",
   "execution_count": null,
   "metadata": {},
   "outputs": [],
   "source": [
    "plt.figure()\n",
    "plt.plot(vec_res)\n",
    "plt.show()"
   ]
  },
  {
   "cell_type": "code",
   "execution_count": null,
   "metadata": {},
   "outputs": [],
   "source": []
  }
 ],
 "metadata": {
  "kernelspec": {
   "display_name": "Python 2",
   "language": "python",
   "name": "python2"
  },
  "language_info": {
   "codemirror_mode": {
    "name": "ipython",
    "version": 2
   },
   "file_extension": ".py",
   "mimetype": "text/x-python",
   "name": "python",
   "nbconvert_exporter": "python",
   "pygments_lexer": "ipython2",
   "version": "2.7.5"
  }
 },
 "nbformat": 4,
 "nbformat_minor": 2
}
